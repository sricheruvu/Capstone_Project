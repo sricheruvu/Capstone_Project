{
  "nbformat": 4,
  "nbformat_minor": 0,
  "metadata": {
    "colab": {
      "name": "TA_Lib.ipynb",
      "provenance": [],
      "authorship_tag": "ABX9TyMW51UPH4rnIZa8Br2/tkmD",
      "include_colab_link": true
    },
    "kernelspec": {
      "name": "python3",
      "display_name": "Python 3"
    },
    "language_info": {
      "name": "python"
    }
  },
  "cells": [
    {
      "cell_type": "markdown",
      "metadata": {
        "id": "view-in-github",
        "colab_type": "text"
      },
      "source": [
        "<a href=\"https://colab.research.google.com/github/sricheruvu/Coursera_Capstone/blob/master/TA_Lib.ipynb\" target=\"_parent\"><img src=\"https://colab.research.google.com/assets/colab-badge.svg\" alt=\"Open In Colab\"/></a>"
      ]
    },
    {
      "cell_type": "code",
      "execution_count": 2,
      "metadata": {
        "colab": {
          "base_uri": "https://localhost:8080/"
        },
        "id": "op9e1Dx3ciWY",
        "outputId": "d3bc818e-ed78-4998-c10d-4aa00d6fd602"
      },
      "outputs": [
        {
          "output_type": "stream",
          "name": "stdout",
          "text": [
            "Collecting ta\n",
            "  Downloading ta-0.8.0.tar.gz (24 kB)\n",
            "Requirement already satisfied: numpy in /usr/local/lib/python3.7/dist-packages (from ta) (1.19.5)\n",
            "Requirement already satisfied: pandas in /usr/local/lib/python3.7/dist-packages (from ta) (1.1.5)\n",
            "Requirement already satisfied: pytz>=2017.2 in /usr/local/lib/python3.7/dist-packages (from pandas->ta) (2018.9)\n",
            "Requirement already satisfied: python-dateutil>=2.7.3 in /usr/local/lib/python3.7/dist-packages (from pandas->ta) (2.8.2)\n",
            "Requirement already satisfied: six>=1.5 in /usr/local/lib/python3.7/dist-packages (from python-dateutil>=2.7.3->pandas->ta) (1.15.0)\n",
            "Building wheels for collected packages: ta\n",
            "  Building wheel for ta (setup.py) ... \u001b[?25l\u001b[?25hdone\n",
            "  Created wheel for ta: filename=ta-0.8.0-py3-none-any.whl size=28895 sha256=42cde0da6ea3793be710d63839482f915f640716eb5aec01a7b3f9ea996d7f39\n",
            "  Stored in directory: /root/.cache/pip/wheels/7e/da/86/65cba22446ae2ef148de2079907264ef27feecfb7f51a45e0d\n",
            "Successfully built ta\n",
            "Installing collected packages: ta\n",
            "Successfully installed ta-0.8.0\n"
          ]
        }
      ],
      "source": [
        "!pip install --upgrade ta"
      ]
    },
    {
      "cell_type": "code",
      "source": [
        "!pip3 install ccxt schedule"
      ],
      "metadata": {
        "id": "DjmRICBGW08v"
      },
      "execution_count": null,
      "outputs": []
    },
    {
      "cell_type": "code",
      "source": [
        "!pip3 install tda-api"
      ],
      "metadata": {
        "id": "ctQiW2g1Z44r"
      },
      "execution_count": null,
      "outputs": []
    },
    {
      "cell_type": "code",
      "source": [
        "import pandas as pd\n",
        "from ta.utils import dropna\n",
        "from ta.volatility import BollingerBands\n",
        "from ta import add_all_ta_features"
      ],
      "metadata": {
        "id": "Mx4cfr0NXE0U"
      },
      "execution_count": 4,
      "outputs": []
    },
    {
      "cell_type": "code",
      "source": [
        "from tda import auth, client\n",
        "import json\n",
        "\n",
        "token_path = '/path/to/token.json'\n",
        "api_key = 'YOUR_API_KEY@AMER.OAUTHAP'\n",
        "redirect_uri = 'https://your.redirecturi.com'\n",
        "try:\n",
        "    c = auth.client_from_token_file(token_path, api_key)\n",
        "except FileNotFoundError:\n",
        "    from selenium import webdriver\n",
        "    with webdriver.Chrome() as driver:\n",
        "        c = auth.client_from_login_flow(\n",
        "            driver, api_key, redirect_uri, token_path)\n",
        "\n",
        "r = c.get_price_history('AAPL',\n",
        "        period_type=client.Client.PriceHistory.PeriodType.YEAR,\n",
        "        period=client.Client.PriceHistory.Period.TWENTY_YEARS,\n",
        "        frequency_type=client.Client.PriceHistory.FrequencyType.DAILY,\n",
        "        frequency=client.Client.PriceHistory.Frequency.DAILY)\n",
        "assert r.status_code == 200, r.raise_for_status()\n",
        "print(json.dumps(r.json(), indent=4))"
      ],
      "metadata": {
        "id": "kNBCm9kkYRmQ"
      },
      "execution_count": null,
      "outputs": []
    },
    {
      "cell_type": "code",
      "source": [
        "# Load datas\n",
        "df = pd.read_csv('/content/datas.csv', sep=',')\n",
        "\n",
        "# Clean NaN values\n",
        "df = dropna(df)\n",
        "\n",
        "# Add all ta features\n",
        "df = add_all_ta_features(\n",
        "    df, open=\"Open\", high=\"High\", low=\"Low\", close=\"Close\", volume=\"Volume_BTC\")"
      ],
      "metadata": {
        "colab": {
          "base_uri": "https://localhost:8080/"
        },
        "id": "V4109bk6bBnj",
        "outputId": "45f90a9e-af27-491e-8cad-d6d155eab406"
      },
      "execution_count": 6,
      "outputs": [
        {
          "output_type": "stream",
          "name": "stderr",
          "text": [
            "/usr/local/lib/python3.7/dist-packages/ta/trend.py:769: RuntimeWarning: invalid value encountered in double_scalars\n",
            "  dip[idx] = 100 * (self._dip[idx] / value)\n",
            "/usr/local/lib/python3.7/dist-packages/ta/trend.py:774: RuntimeWarning: invalid value encountered in double_scalars\n",
            "  din[idx] = 100 * (self._din[idx] / value)\n"
          ]
        }
      ]
    },
    {
      "cell_type": "code",
      "source": [
        "# Clean NaN values\n",
        "df = dropna(df)\n",
        "\n",
        "# Initialize Bollinger Bands Indicator\n",
        "indicator_bb = BollingerBands(close=df[\"Close\"], window=20, window_dev=2)\n",
        "\n",
        "# Add Bollinger Bands features\n",
        "df['bb_bbm'] = indicator_bb.bollinger_mavg()\n",
        "df['bb_bbh'] = indicator_bb.bollinger_hband()\n",
        "df['bb_bbl'] = indicator_bb.bollinger_lband()\n",
        "\n",
        "# Add Bollinger Band high indicator\n",
        "df['bb_bbhi'] = indicator_bb.bollinger_hband_indicator()\n",
        "\n",
        "# Add Bollinger Band low indicator\n",
        "df['bb_bbli'] = indicator_bb.bollinger_lband_indicator()\n",
        "\n",
        "# Add Width Size Bollinger Bands\n",
        "df['bb_bbw'] = indicator_bb.bollinger_wband()\n",
        "\n",
        "# Add Percentage Bollinger Bands\n",
        "df['bb_bbp'] = indicator_bb.bollinger_pband()"
      ],
      "metadata": {
        "id": "7z4BosWccVMt"
      },
      "execution_count": 8,
      "outputs": []
    }
  ]
}