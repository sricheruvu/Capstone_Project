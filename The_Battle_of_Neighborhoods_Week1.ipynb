{
  "nbformat": 4,
  "nbformat_minor": 0,
  "metadata": {
    "colab": {
      "name": "The Battle of Neighborhoods-Week1.ipynb",
      "provenance": [],
      "collapsed_sections": [],
      "authorship_tag": "ABX9TyOomsWNmMgMdPWVzQi4cU0K"
    },
    "kernelspec": {
      "name": "python3",
      "display_name": "Python 3"
    }
  },
  "cells": [
    {
      "cell_type": "markdown",
      "metadata": {
        "id": "Oy3sG-psJY_h",
        "colab_type": "text"
      },
      "source": [
        "#**The Battle of the Neighborhoods - Capstone Project**"
      ]
    },
    {
      "cell_type": "markdown",
      "metadata": {
        "id": "8KlO4g8HJ9gm",
        "colab_type": "text"
      },
      "source": [
        "## The Battle of Neighborhoods (Week 1)\n",
        "\n",
        "1.   **Background and Problem Description** \n",
        "\n",
        "  One of my clients mentioned to me that they are planning to setup an **Indo Chinese** restaurant in Chicago. However, since he is not from Chicago, he wanted me to do some analysis on the different neighborhoods in Chicago and recommend 2 neighborhoods where he will have greater chances of succeeding if he sets up his restaurant. He was open to suburbs and the downtown areas of Chicago. Based on the recommendation, he will perform a physical feasibility study and make his decision. These recommendations will speed his time to entry in to the Chicago market.\n",
        "\n",
        "\n",
        "2.   **Data Description**\n",
        "\n",
        "  The data for performing the explorations come from the following sources:\n",
        "\n",
        "    *   **Chicago neighborhood dataset** - https://en.wikipedia.org/wiki/List_of_neighborhoods_in_Chicago . This data will help us group and analyze different neighborhoods based on the community areas. \n",
        "    \n",
        "  *   **Location Data from Foursquare** - for each neighborhood venues and venues categories were gathered for analysis, narrowing down of the neighborhoods to top 5 and clustering. In addition we can get a granular view of the types of businesses in these neighborhoods.\n",
        "\n",
        "3. **High Level Methodology**\n",
        "  \n",
        "  The key steps involved in this project include:\n",
        "\n",
        "  *   Web scrape Community and Neighborhood data, process it and store it into Pandas DataFrame\n",
        "  * Obtain data from Foursquare such as venues, venue catogeries etc that would complement the neighborhood data.\n",
        "  *   Determine the location coordinates and append it to the neighborhood data\n",
        "  * Perform exploratory data analysis (EDA) on the merged data (Foursquare and neighborhood) such as -\n",
        "    * grouping of neighborhoods by community area, \n",
        "    * listing the top 10 neighborhoods\n",
        "    * identifying the top venues and venue sub categories in these neighboorhoods\n",
        "    * narrowing down to top 5 neighborhoods using statistical means comparison\n",
        "    * clustering and mapping to narrow down to top 2 neighborhoods \n",
        "\n",
        "\n",
        "\n",
        "\n",
        "\n",
        "\n",
        "\n"
      ]
    }
  ]
}